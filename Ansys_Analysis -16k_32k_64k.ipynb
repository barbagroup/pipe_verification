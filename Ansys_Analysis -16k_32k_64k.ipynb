{
 "cells": [
  {
   "cell_type": "code",
   "execution_count": 1,
   "metadata": {},
   "outputs": [],
   "source": [
    "import numpy as np\n",
    "import csv\n",
    "import glob\n",
    "import pandas as pd\n",
    "from matplotlib import pyplot"
   ]
  },
  {
   "cell_type": "markdown",
   "metadata": {},
   "source": [
    "# Functions"
   ]
  },
  {
   "cell_type": "code",
   "execution_count": 2,
   "metadata": {},
   "outputs": [],
   "source": [
    "############ Get Data from CSV File ########### \n",
    "def dataGet(data_file):    ## Simulation Data\n",
    "    \"\"\"Collects data from csv file\n",
    "    \n",
    "    Arguments\n",
    "    ---------\n",
    "    data_file : csv file \n",
    "        comma-separated values file \n",
    "    \n",
    "    Returns\n",
    "    -------\n",
    "    two-dimensional list of strings\n",
    "    \"\"\"\n",
    "    global data   \n",
    "    raw=open(data_file)\n",
    "    get_csv=csv.reader(raw)\n",
    "    data = []\n",
    "    for line in get_csv:\n",
    "        data.append(line) \n",
    "    return data\n",
    "\n",
    "def dataCleanDiameter():\n",
    "    \"\"\"Cleans Diameter Data (increments of 0.01m along the z-axis) \n",
    "    \n",
    "    Details\n",
    "    ---------\n",
    "    Directory must contain all csv files to be read\n",
    "    \n",
    "    Returns\n",
    "    -------\n",
    "    Three lists of floats: \n",
    "        Vel = Velocity [m/s]\n",
    "        label = file name followed by Z-axis location of diameter\n",
    "        x_l = position along diameter\n",
    "    \"\"\"\n",
    "    data_file=glob.glob('*.csv')\n",
    "    temp = []\n",
    "    for file in data_file:\n",
    "        data = dataGet(file);\n",
    "        name_file=file.rsplit('.',1)[0]; \n",
    "        data_t = np.transpose(data)\n",
    "        data_Vel, data_x = data_t[1], data_t[0] \n",
    "        i = 0;\n",
    "        buffer, buffer_x = [], []\n",
    "        label.append('FILE: '+ name_file)\n",
    "        for radius in data_x:\n",
    "            buffer.append(data_Vel[i])\n",
    "            buffer_x.append(data_x[i])\n",
    "            if radius == \"[Name]\":\n",
    "                buffer_x = buffer_x[4:len(buffer_x)-3]\n",
    "                buffer_x = [float(item) for item in buffer_x]    \n",
    "                x_loc.append(buffer_x)                \n",
    "                buffer = buffer[4:len(buffer)-3]\n",
    "                buffer = [float(item) for item in buffer]    \n",
    "                Vel.append(buffer)                 \n",
    "                label.append(data_x[i+1])\n",
    "                buffer, buffer_x = [], []\n",
    "            i+=1        \n",
    "        buffer_x = buffer_x[4:-1]\n",
    "        buffer_x = [float(item) for item in buffer_x]    \n",
    "        x_loc.append(buffer_x)        \n",
    "        buffer = buffer[4:-1]\n",
    "        buffer = [float(item) for item in buffer]    \n",
    "        Vel.append(buffer)\n",
    "    return Vel,label,x_loc\n",
    "############ #######################\n",
    "def dataCleanPlane():\n",
    "    \"\"\"Cleans Plane Data (at 0.11[m] for final timestep) \n",
    "    \n",
    "    Details\n",
    "    ---------\n",
    "    Directory must contain all csv files to be read\n",
    "    \n",
    "    Returns\n",
    "    -------\n",
    "    Three lists of floats:\n",
    "        Vel = Velocity [m/s]\n",
    "        label = file name followed by Z-axis location of diameter\n",
    "        x_loc = x component of vertex where velocity is calculated\n",
    "        y_loc = y component of vertex where velocity is calculated\n",
    "        z_loc = z component of vertex where velocity is calculated\n",
    "        area = the sum of sector areas associated with the node\n",
    "               (a sector area is the portion of area of a face \n",
    "               touching a node that can be associated with that node)\n",
    "    \"\"\"\n",
    "    data_file=glob.glob('*.csv')\n",
    "    temp = []\n",
    "    for file in data_file:\n",
    "        data = dataGet(file);\n",
    "        name_file=file.rsplit('.',1)[0]; \n",
    "        data_t = np.transpose(data)\n",
    "        data_x, data_y, data_z = data_t[0], data_t[1], data_t[2]\n",
    "        data_Vel, data_area = data_t[3], data_t[4]\n",
    "        i = 0;\n",
    "        buffer_Vel, buffer_x,buffer_y,buffer_z,buffer_area = [],[],[],[],[]\n",
    "        label.append('FILE: '+ name_file)\n",
    "        for radius in data_x:\n",
    "            buffer_x.append(data_x[i])\n",
    "            buffer_y.append(data_y[i])\n",
    "            buffer_z.append(data_z[i])\n",
    "            buffer_Vel.append(data_Vel[i])\n",
    "            buffer_area.append(data_area[i])            \n",
    "            if radius == \"[Name]\":\n",
    "                buffer_x = buffer_x[4:len(buffer_x)-3]\n",
    "                buffer_x = [float(item) for item in buffer_x]    \n",
    "                x_loc.append(buffer_x)                \n",
    "                buffer_y = buffer_y[4:len(buffer_y)-3]\n",
    "                buffer_y = [float(item) for item in buffer_y]    \n",
    "                y_loc.append(buffer_y)                \n",
    "                buffer_z = buffer_z[4:len(buffer_z)-3]\n",
    "                buffer_z = [float(item) for item in buffer_z]    \n",
    "                z_loc.append(buffer_z)                \n",
    "                buffer_Vel = buffer_Vel[4:len(buffer_Vel)-3]\n",
    "                buffer_Vel = [float(item) for item in buffer_Vel]    \n",
    "                Vel.append(buffer_Vel)\n",
    "                buffer_area = buffer_area[4:len(buffer_area)-3]\n",
    "                buffer_area = [float(item) for item in buffer_area]    \n",
    "                area.append(buffer_area)                \n",
    "                label.append(data_x[i+1])\n",
    "                buffer_Vel, buffer_area,buffer_x,buffer_y,buffer_z = [],[],[],[],[]\n",
    "            i+=1                \n",
    "        buffer_x = buffer_x[4:-1]\n",
    "        buffer_x = [float(item) for item in buffer_x]    \n",
    "        x_loc.append(buffer_x)  \n",
    "        buffer_y = buffer_y[4:-1]\n",
    "        buffer_y = [float(item) for item in buffer_y]    \n",
    "        y_loc.append(buffer_y)   \n",
    "        buffer_z = buffer_z[4:-1]\n",
    "        buffer_z = [float(item) for item in buffer_z]    \n",
    "        z_loc.append(buffer_z)  \n",
    "        buffer_Vel = buffer_Vel[4:-1]\n",
    "        buffer_Vel = [float(item) for item in buffer_Vel]    \n",
    "        Vel.append(buffer_Vel)\n",
    "        buffer_area = buffer_area[4:-1]\n",
    "        buffer_area = [float(item) for item in buffer_area]    \n",
    "        area.append(buffer_area)\n",
    "    return Vel,label,x_loc,y_loc,z_loc,area\n",
    "############ Analytic Solution ################\n",
    "def analytic_Sol(r,R,pressureGrad):\n",
    "    \"\"\"Calculates the analytic solution\n",
    "    \n",
    "    Arguments\n",
    "    ---------\n",
    "    data_file : csv file \n",
    "        comma-separated values file\n",
    "    r : array of float\n",
    "        Radius values along the diameter\n",
    "    R : float\n",
    "        Radius of the pipe\n",
    "    pressureGrad : float \n",
    "        pressure gradient \n",
    "    \n",
    "    Returns\n",
    "    -------\n",
    "    analytic_solution: array of float\n",
    "    \"\"\"\n",
    "    analytic_solution = (R**2-r**2)*(1/(4*1.48e-05))*pressureGrad \n",
    "    return analytic_solution\n",
    "################ L2 Norm  ##################### \n",
    "def l2_norm_calc(x_loc, y_loc, Vel, area):\n",
    "    \"\"\"Calculates the L2 Norm\n",
    "    \n",
    "    Arguments\n",
    "    ---------\n",
    "    data_file : csv file \n",
    "        comma-separated values file\n",
    "    r : array of float\n",
    "        Radius values along the diameter\n",
    "    R : float\n",
    "        Radius of the pipe\n",
    "    pressureGrad : float \n",
    "        pressure gradient \n",
    "    \n",
    "    Returns\n",
    "    -------\n",
    "    analytic_solution: array of float\n",
    "    \"\"\"\n",
    "    a = 0\n",
    "    x0, y0 = 0, 0 \n",
    "    analytic_solution = []\n",
    "    diff_sqr_areas = []\n",
    "    error_sum = 0\n",
    "    for point in x_loc:\n",
    "        r = np.sqrt((x_loc[a] - 0)**2 + (y_loc[a] - 0)**2)\n",
    "        asol = (R**2-r**2)*(1/(4*1.48e-05))*pressureGrad\n",
    "        analytic_solution.append(asol)\n",
    "        differ = Vel[a] - asol\n",
    "        diff_sqr = differ**2\n",
    "        diff_sqr_area = float(diff_sqr) * area[a]\n",
    "        diff_sqr_areas.append(diff_sqr_area)\n",
    "        error_sum += diff_sqr_area \n",
    "        a+=1    \n",
    "    l2_norm = np.sqrt(error_sum)\n",
    "    return l2_norm, analytic_solution,diff_sqr_areas"
   ]
  },
  {
   "cell_type": "markdown",
   "metadata": {},
   "source": [
    "# Pipe Flow Parameters"
   ]
  },
  {
   "cell_type": "code",
   "execution_count": 3,
   "metadata": {},
   "outputs": [],
   "source": [
    "length = 0.12              # Pipe Length\n",
    "R = 0.00227                # Pipe Radius\n",
    "rho = 1.0                  # Fluid Density\n",
    "v = 0.5216                 # Uniform Inlet Velocity\n",
    "\n",
    "Re = rho*v*R*2/(1.48e-05)  # Reynolds number\n",
    "f = 64/Re                  # Friction Factor\n",
    "dP = f*length*1*v**2/(2*R*2)   \n",
    "pressureGrad = dP/length\n",
    "dPdx = 1.48e-05*4/(R**2)\n",
    "v_max = v*2                # Maximum Velocity"
   ]
  },
  {
   "cell_type": "markdown",
   "metadata": {},
   "source": [
    "# Analytic Solution"
   ]
  },
  {
   "cell_type": "code",
   "execution_count": 4,
   "metadata": {},
   "outputs": [],
   "source": [
    "r1 = np.linspace(-0.00227,0.00227,31)#,1000)\n",
    "r = np.sqrt(r1**2)  # array how radius changing\n",
    "analytic_Sol = analytic_Sol(r,R,pressureGrad)"
   ]
  },
  {
   "cell_type": "code",
   "execution_count": 14,
   "metadata": {},
   "outputs": [
    {
     "data": {
      "text/plain": [
       "numpy.float64"
      ]
     },
     "execution_count": 14,
     "metadata": {},
     "output_type": "execute_result"
    }
   ],
   "source": [
    "type(r[0])"
   ]
  },
  {
   "cell_type": "markdown",
   "metadata": {},
   "source": [
    "# ANSYS - Diameter Data "
   ]
  },
  {
   "cell_type": "code",
   "execution_count": 5,
   "metadata": {},
   "outputs": [
    {
     "name": "stdout",
     "output_type": "stream",
     "text": [
      "C:\\Users\\Paulina\\Desktop\\PausWorld\\Analysis_ANSYS\\Analysis_Meshes-3_Pipeflow_ANSYS\\data\\Diameter\n"
     ]
    }
   ],
   "source": [
    "cd data\\Diameter"
   ]
  },
  {
   "cell_type": "code",
   "execution_count": 6,
   "metadata": {},
   "outputs": [],
   "source": [
    "Vel, label, x_loc = [],[],[]                # Initialize variables\n",
    "Vel, label, x_loc = dataCleanDiameter()     # Collect Diameter Data"
   ]
  },
  {
   "cell_type": "code",
   "execution_count": 7,
   "metadata": {},
   "outputs": [],
   "source": [
    "# Collect velocity by mesh: Coarse(16), Med(32), Fine(64)\n",
    "x_position = x_loc[1]     # Position along diameter at cross section \n",
    "Vel_16_z11, Vel_32_z11, Vel_64_z11 = Vel[11], Vel[25], Vel[39]"
   ]
  },
  {
   "cell_type": "code",
   "execution_count": 8,
   "metadata": {},
   "outputs": [],
   "source": [
    "# Create Dataframes for each mesh table1(Coarse), table2(Med), table3(Fine)\n",
    "headings = ['x'] + label[1:14]\n",
    "#transient_16_1s_0.0005_Diameters\n",
    "table1 = [x_loc[1],Vel[1],Vel[2],Vel[3],Vel[4],\n",
    "         Vel[5],Vel[6],Vel[7],Vel[8],Vel[9],Vel[10],Vel[11],Vel[12],Vel[13]]\n",
    "df1 = pd.DataFrame(table1)\n",
    "df1 = df1.transpose()\n",
    "df1.columns = headings\n",
    "\n",
    "#transient_32_0.3s_0.0005_Diameters\n",
    "table2 = [x_loc[2],Vel[15],Vel[16],Vel[17],Vel[18],Vel[19],\n",
    "         Vel[20],Vel[21],Vel[22],Vel[23],Vel[24],Vel[25],Vel[26],Vel[27]]\n",
    "df2 = pd.DataFrame(table2)\n",
    "df2 = df2.transpose()\n",
    "df2.columns = headings\n",
    "\n",
    "#transient_64_0.3s_0.00025_Diameters\n",
    "table3 = [x_loc[3],Vel[28],Vel[29],Vel[30],Vel[31],Vel[32],\n",
    "         Vel[33],Vel[34],Vel[35],Vel[36],Vel[37],Vel[38],Vel[39],Vel[40]]\n",
    "df3 = pd.DataFrame(table3)\n",
    "df3 = df3.transpose()\n",
    "df3.columns = headings"
   ]
  },
  {
   "cell_type": "code",
   "execution_count": 9,
   "metadata": {},
   "outputs": [
    {
     "data": {
      "image/png": "[encoded data removed]",
      "text/plain": [
       "<Figure size 1080x648 with 1 Axes>"
      ]
     },
     "metadata": {
      "needs_background": "light"
     },
     "output_type": "display_data"
    }
   ],
   "source": [
    "pyplot.figure(figsize=(15,9))\n",
    "pyplot.plot(df1['x'],df1['Diameter11 at Diameter11'] ,label=\"Coarse\" )\n",
    "pyplot.plot(df2['x'],df2['Diameter11 at Diameter11'] ,label=\"Medium\" )\n",
    "pyplot.plot(df3['x'],df3['Diameter11 at Diameter11'] ,label=\"Fine\" )\n",
    "pyplot.plot(r1,analytic_Sol, label = 'Analytic',color='black',linestyle=':')\n",
    "pyplot.xlabel('\\n Pipe Diameter Location [m] \\n')\n",
    "pyplot.ylabel('Velocity [m/s] \\n')\n",
    "pyplot.title('ANSYS \\n Velocity Profile at z = 0.11[m]')\n",
    "pyplot.legend(loc=\"upper right\");\n",
    "pyplot.legend(loc=\"upper right\", frameon = False);\n",
    "pyplot.savefig('Vel_Mesh16-32-64_ANSYS.png',dpi =1000)"
   ]
  },
  {
   "cell_type": "markdown",
   "metadata": {},
   "source": [
    "----"
   ]
  },
  {
   "cell_type": "markdown",
   "metadata": {},
   "source": [
    "# ANSYS - Plane Data "
   ]
  },
  {
   "cell_type": "code",
   "execution_count": 10,
   "metadata": {},
   "outputs": [
    {
     "name": "stdout",
     "output_type": "stream",
     "text": [
      "C:\\Users\\Paulina\\Desktop\\PausWorld\\Analysis_ANSYS\\Analysis_Meshes-3_Pipeflow_ANSYS\\data\\Plane_11\n"
     ]
    }
   ],
   "source": [
    "cd ..\\Plane_11"
   ]
  },
  {
   "cell_type": "code",
   "execution_count": 11,
   "metadata": {
    "scrolled": true
   },
   "outputs": [],
   "source": [
    "Vel,label, x_loc, y_loc, z_loc, area = [], [], [], [], [], []\n",
    "# Collect & Clean All data\n",
    "Vel,label, x_loc, y_loc, z_loc, area = dataCleanPlane()"
   ]
  },
  {
   "cell_type": "code",
   "execution_count": 12,
   "metadata": {},
   "outputs": [
    {
     "name": "stdout",
     "output_type": "stream",
     "text": [
      " l2_norm_16 = 1.427405027665904e-05 \n",
      " l2_norm_32 = 5.0785806969720265e-06 \n",
      " l2_norm_64 = 1.6882401183998343e-06\n"
     ]
    }
   ],
   "source": [
    "# Calculate L2 Norm\n",
    "l2_norm_16, analytic_solution_16,diff_16 = l2_norm_calc(x_loc[1], y_loc[1], Vel[1], area[1])\n",
    "l2_norm_32, analytic_solution_32,diff_32 = l2_norm_calc(x_loc[3], y_loc[3], Vel[3], area[3])\n",
    "l2_norm_64, analytic_solution_64,diff_64 = l2_norm_calc(x_loc[5], y_loc[5], Vel[5], area[5])\n",
    "print(' l2_norm_16 =',l2_norm_16,'\\n','l2_norm_32 =',l2_norm_32,'\\n','l2_norm_64 =',l2_norm_64)"
   ]
  },
  {
   "cell_type": "code",
   "execution_count": 12,
   "metadata": {},
   "outputs": [
    {
     "data": {
      "text/plain": [
       "float"
      ]
     },
     "execution_count": 12,
     "metadata": {},
     "output_type": "execute_result"
    }
   ],
   "source": [
    "type(x_loc[1][0])"
   ]
  },
  {
   "cell_type": "code",
   "execution_count": 13,
   "metadata": {},
   "outputs": [],
   "source": [
    "#Data Frames for each mesh: Coarse(16),Med(32),Fine(64)\n",
    "headings = ['x','y','Error']\n",
    "\n",
    "#transient_16_1s_0.0005_Diameters\n",
    "table16 = [x_loc[1],y_loc[1],diff_16]\n",
    "df16 = pd.DataFrame(table16)\n",
    "df16 = df16.transpose()\n",
    "df16.columns = headings\n",
    "\n",
    "#transient_32_1s_0.0005_Diameters\n",
    "table32 = [x_loc[3],y_loc[3],diff_32]\n",
    "df32 = pd.DataFrame(table32)\n",
    "df32 = df32.transpose()\n",
    "df32.columns = headings\n",
    "\n",
    "#transient_64_1s_0.0005_Diameters\n",
    "table64 = [x_loc[5],y_loc[5],diff_64]\n",
    "df64 = pd.DataFrame(table64)\n",
    "df64 = df64.transpose()\n",
    "df64.columns = headings"
   ]
  },
  {
   "cell_type": "markdown",
   "metadata": {},
   "source": [
    "## LogLog of Errors"
   ]
  },
  {
   "cell_type": "code",
   "execution_count": 14,
   "metadata": {},
   "outputs": [],
   "source": [
    "Error_Openfoam = np.array([9.421e-05,2.721e-05,1.129e-05])\n",
    "Error_Ansys = np.array([l2_norm_16,l2_norm_32,l2_norm_64])\n",
    "mesh_elem = np.array([16,32,64])  # or [32040,78840,630720]"
   ]
  },
  {
   "cell_type": "code",
   "execution_count": 15,
   "metadata": {},
   "outputs": [
    {
     "data": {
      "image/png": "[encoded data removed]",
      "text/plain": [
       "<Figure size 432x360 with 1 Axes>"
      ]
     },
     "metadata": {
      "needs_background": "light"
     },
     "output_type": "display_data"
    }
   ],
   "source": [
    "pyplot.figure(figsize=[6,5])\n",
    "pyplot.title('Error')\n",
    "pyplot.xlabel('Mesh Elements')\n",
    "pyplot.ylabel('L2 Norm')\n",
    "pyplot.loglog(mesh_elem,Error_Openfoam,'-o', label = 'OpenFOAM')\n",
    "pyplot.loglog(mesh_elem,Error_Ansys,'-o', label = 'ANSYS')\n",
    "pyplot.legend()\n",
    "pyplot.grid(True, which=\"both\", ls=\"-\")"
   ]
  },
  {
   "cell_type": "code",
   "execution_count": null,
   "metadata": {},
   "outputs": [],
   "source": []
  },
  {
   "cell_type": "code",
   "execution_count": null,
   "metadata": {},
   "outputs": [],
   "source": []
  }
 ],
 "metadata": {
  "kernelspec": {
   "display_name": "Python 3",
   "language": "python",
   "name": "python3"
  },
  "language_info": {
   "codemirror_mode": {
    "name": "ipython",
    "version": 3
   },
   "file_extension": ".py",
   "mimetype": "text/x-python",
   "name": "python",
   "nbconvert_exporter": "python",
   "pygments_lexer": "ipython3",
   "version": "3.7.4"
  }
 },
 "nbformat": 4,
 "nbformat_minor": 2
}
